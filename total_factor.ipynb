{
 "cells": [
  {
   "cell_type": "code",
   "execution_count": 39,
   "id": "3ddf560f",
   "metadata": {},
   "outputs": [],
   "source": [
    "import pandas as pd"
   ]
  },
  {
   "cell_type": "code",
   "execution_count": 40,
   "id": "da368f2d",
   "metadata": {},
   "outputs": [],
   "source": [
    "df = pd.read_excel('quarterly_tfp.xlsx', sheet_name='quarterly')"
   ]
  },
  {
   "cell_type": "raw",
   "id": "53912e73",
   "metadata": {},
   "source": []
  },
  {
   "cell_type": "code",
   "execution_count": 79,
   "id": "3a888432",
   "metadata": {},
   "outputs": [
    {
     "name": "stdout",
     "output_type": "stream",
     "text": [
      "Index(['Note:  All variables are percent change at an annual rate (=400 * change in natural log). Produced on March 07, 2023 10:54 AM', 'Unnamed: 11'], dtype='object')\n"
     ]
    }
   ],
   "source": [
    "print(df.columns)"
   ]
  },
  {
   "cell_type": "code",
   "execution_count": 80,
   "id": "bae2c89b",
   "metadata": {},
   "outputs": [
    {
     "data": {
      "text/html": [
       "<div>\n",
       "<style scoped>\n",
       "    .dataframe tbody tr th:only-of-type {\n",
       "        vertical-align: middle;\n",
       "    }\n",
       "\n",
       "    .dataframe tbody tr th {\n",
       "        vertical-align: top;\n",
       "    }\n",
       "\n",
       "    .dataframe thead th {\n",
       "        text-align: right;\n",
       "    }\n",
       "</style>\n",
       "<table border=\"1\" class=\"dataframe\">\n",
       "  <thead>\n",
       "    <tr style=\"text-align: right;\">\n",
       "      <th></th>\n",
       "      <th>Note:  All variables are percent change at an annual rate (=400 * change in natural log). Produced on March 07, 2023 10:54 AM</th>\n",
       "      <th>Unnamed: 11</th>\n",
       "    </tr>\n",
       "  </thead>\n",
       "  <tbody>\n",
       "    <tr>\n",
       "      <th>0</th>\n",
       "      <td>date</td>\n",
       "      <td>dtfp</td>\n",
       "    </tr>\n",
       "    <tr>\n",
       "      <th>1</th>\n",
       "      <td>1947:Q1</td>\n",
       "      <td>NaN</td>\n",
       "    </tr>\n",
       "    <tr>\n",
       "      <th>2</th>\n",
       "      <td>1947:Q2</td>\n",
       "      <td>-0.222961</td>\n",
       "    </tr>\n",
       "    <tr>\n",
       "      <th>3</th>\n",
       "      <td>1947:Q3</td>\n",
       "      <td>-3.793172</td>\n",
       "    </tr>\n",
       "    <tr>\n",
       "      <th>4</th>\n",
       "      <td>1947:Q4</td>\n",
       "      <td>3.472945</td>\n",
       "    </tr>\n",
       "    <tr>\n",
       "      <th>...</th>\n",
       "      <td>...</td>\n",
       "      <td>...</td>\n",
       "    </tr>\n",
       "    <tr>\n",
       "      <th>306</th>\n",
       "      <td>Full sample mean</td>\n",
       "      <td>1.187898</td>\n",
       "    </tr>\n",
       "    <tr>\n",
       "      <th>307</th>\n",
       "      <td>Since 1995:4</td>\n",
       "      <td>0.924773</td>\n",
       "    </tr>\n",
       "    <tr>\n",
       "      <th>308</th>\n",
       "      <td>Since 2001:1</td>\n",
       "      <td>0.699707</td>\n",
       "    </tr>\n",
       "    <tr>\n",
       "      <th>309</th>\n",
       "      <td>Past 8 qtrs</td>\n",
       "      <td>-0.07806</td>\n",
       "    </tr>\n",
       "    <tr>\n",
       "      <th>310</th>\n",
       "      <td>Past 4 qtrs</td>\n",
       "      <td>-1.834685</td>\n",
       "    </tr>\n",
       "  </tbody>\n",
       "</table>\n",
       "<p>311 rows × 2 columns</p>\n",
       "</div>"
      ],
      "text/plain": [
       "    Note:  All variables are percent change at an annual rate (=400 * change in natural log). Produced on March 07, 2023 10:54 AM  \\\n",
       "0                                                 date                                                                              \n",
       "1                                              1947:Q1                                                                              \n",
       "2                                              1947:Q2                                                                              \n",
       "3                                              1947:Q3                                                                              \n",
       "4                                              1947:Q4                                                                              \n",
       "..                                                 ...                                                                              \n",
       "306                                   Full sample mean                                                                              \n",
       "307                                       Since 1995:4                                                                              \n",
       "308                                       Since 2001:1                                                                              \n",
       "309                                        Past 8 qtrs                                                                              \n",
       "310                                        Past 4 qtrs                                                                              \n",
       "\n",
       "    Unnamed: 11  \n",
       "0          dtfp  \n",
       "1           NaN  \n",
       "2     -0.222961  \n",
       "3     -3.793172  \n",
       "4      3.472945  \n",
       "..          ...  \n",
       "306    1.187898  \n",
       "307    0.924773  \n",
       "308    0.699707  \n",
       "309    -0.07806  \n",
       "310   -1.834685  \n",
       "\n",
       "[311 rows x 2 columns]"
      ]
     },
     "execution_count": 80,
     "metadata": {},
     "output_type": "execute_result"
    }
   ],
   "source": [
    "selected_columns = ['Note:  All variables are percent change at an annual rate (=400 * change in natural log). Produced on March 07, 2023 10:54 AM', 'Unnamed: 11']\n",
    "df_selected = df[selected_columns]\n",
    "df = df[selected_columns]  # Modify the existing DataFrame\n",
    "df\n"
   ]
  },
  {
   "cell_type": "code",
   "execution_count": 46,
   "id": "39c58062",
   "metadata": {},
   "outputs": [
    {
     "name": "stdout",
     "output_type": "stream",
     "text": [
      "Index(['Note:  All variables are percent change at an annual rate (=400 * change in natural log). Produced on March 07, 2023 10:54 AM', 'Unnamed: 11'], dtype='object')\n"
     ]
    }
   ],
   "source": [
    "print(df_selected.columns)"
   ]
  },
  {
   "cell_type": "code",
   "execution_count": 81,
   "id": "fdc21e3f",
   "metadata": {},
   "outputs": [],
   "source": [
    "column_mapping = {\n",
    "    'Note:  All variables are percent change at an annual rate (=400 * change in natural log). Produced on March 07, 2023 10:54 AM': 'date',\n",
    "    'Unnamed: 11': 'tfp'}"
   ]
  },
  {
   "cell_type": "code",
   "execution_count": 83,
   "id": "c3db1f8f",
   "metadata": {},
   "outputs": [
    {
     "data": {
      "text/html": [
       "<div>\n",
       "<style scoped>\n",
       "    .dataframe tbody tr th:only-of-type {\n",
       "        vertical-align: middle;\n",
       "    }\n",
       "\n",
       "    .dataframe tbody tr th {\n",
       "        vertical-align: top;\n",
       "    }\n",
       "\n",
       "    .dataframe thead th {\n",
       "        text-align: right;\n",
       "    }\n",
       "</style>\n",
       "<table border=\"1\" class=\"dataframe\">\n",
       "  <thead>\n",
       "    <tr style=\"text-align: right;\">\n",
       "      <th></th>\n",
       "      <th>date</th>\n",
       "      <th>tfp</th>\n",
       "    </tr>\n",
       "  </thead>\n",
       "  <tbody>\n",
       "    <tr>\n",
       "      <th>0</th>\n",
       "      <td>date</td>\n",
       "      <td>dtfp</td>\n",
       "    </tr>\n",
       "    <tr>\n",
       "      <th>1</th>\n",
       "      <td>1947:Q1</td>\n",
       "      <td>NaN</td>\n",
       "    </tr>\n",
       "    <tr>\n",
       "      <th>2</th>\n",
       "      <td>1947:Q2</td>\n",
       "      <td>-0.222961</td>\n",
       "    </tr>\n",
       "    <tr>\n",
       "      <th>3</th>\n",
       "      <td>1947:Q3</td>\n",
       "      <td>-3.793172</td>\n",
       "    </tr>\n",
       "    <tr>\n",
       "      <th>4</th>\n",
       "      <td>1947:Q4</td>\n",
       "      <td>3.472945</td>\n",
       "    </tr>\n",
       "    <tr>\n",
       "      <th>...</th>\n",
       "      <td>...</td>\n",
       "      <td>...</td>\n",
       "    </tr>\n",
       "    <tr>\n",
       "      <th>306</th>\n",
       "      <td>Full sample mean</td>\n",
       "      <td>1.187898</td>\n",
       "    </tr>\n",
       "    <tr>\n",
       "      <th>307</th>\n",
       "      <td>Since 1995:4</td>\n",
       "      <td>0.924773</td>\n",
       "    </tr>\n",
       "    <tr>\n",
       "      <th>308</th>\n",
       "      <td>Since 2001:1</td>\n",
       "      <td>0.699707</td>\n",
       "    </tr>\n",
       "    <tr>\n",
       "      <th>309</th>\n",
       "      <td>Past 8 qtrs</td>\n",
       "      <td>-0.07806</td>\n",
       "    </tr>\n",
       "    <tr>\n",
       "      <th>310</th>\n",
       "      <td>Past 4 qtrs</td>\n",
       "      <td>-1.834685</td>\n",
       "    </tr>\n",
       "  </tbody>\n",
       "</table>\n",
       "<p>311 rows × 2 columns</p>\n",
       "</div>"
      ],
      "text/plain": [
       "                 date       tfp\n",
       "0                date      dtfp\n",
       "1             1947:Q1       NaN\n",
       "2             1947:Q2 -0.222961\n",
       "3             1947:Q3 -3.793172\n",
       "4             1947:Q4  3.472945\n",
       "..                ...       ...\n",
       "306  Full sample mean  1.187898\n",
       "307      Since 1995:4  0.924773\n",
       "308      Since 2001:1  0.699707\n",
       "309       Past 8 qtrs  -0.07806\n",
       "310       Past 4 qtrs -1.834685\n",
       "\n",
       "[311 rows x 2 columns]"
      ]
     },
     "execution_count": 83,
     "metadata": {},
     "output_type": "execute_result"
    }
   ],
   "source": [
    "df_selected = df_selected.rename(columns=column_mapping)\n",
    "df_selected"
   ]
  },
  {
   "cell_type": "code",
   "execution_count": 49,
   "id": "66434be6",
   "metadata": {},
   "outputs": [
    {
     "name": "stdout",
     "output_type": "stream",
     "text": [
      "Index(['date', 'tfp'], dtype='object')\n"
     ]
    }
   ],
   "source": [
    "print(df_selected.columns)"
   ]
  },
  {
   "cell_type": "code",
   "execution_count": 50,
   "id": "48f778c1",
   "metadata": {},
   "outputs": [
    {
     "name": "stdout",
     "output_type": "stream",
     "text": [
      "                 date       tfp\n",
      "0                date      dtfp\n",
      "1             1947:Q1       NaN\n",
      "2             1947:Q2 -0.222961\n",
      "3             1947:Q3 -3.793172\n",
      "4             1947:Q4  3.472945\n",
      "..                ...       ...\n",
      "306  Full sample mean  1.187898\n",
      "307      Since 1995:4  0.924773\n",
      "308      Since 2001:1  0.699707\n",
      "309       Past 8 qtrs  -0.07806\n",
      "310       Past 4 qtrs -1.834685\n",
      "\n",
      "[311 rows x 2 columns]\n"
     ]
    }
   ],
   "source": [
    "print(df_selected)"
   ]
  },
  {
   "cell_type": "code",
   "execution_count": 57,
   "id": "81c7de05",
   "metadata": {},
   "outputs": [],
   "source": [
    "selected_column = 'date'"
   ]
  },
  {
   "cell_type": "code",
   "execution_count": 60,
   "id": "f3df6e6a",
   "metadata": {},
   "outputs": [],
   "source": [
    "column_data_type =  df_selected[selected_column].dtype"
   ]
  },
  {
   "cell_type": "code",
   "execution_count": 61,
   "id": "2e51d5d4",
   "metadata": {},
   "outputs": [
    {
     "name": "stdout",
     "output_type": "stream",
     "text": [
      "object\n"
     ]
    }
   ],
   "source": [
    "print(column_data_type)\n"
   ]
  },
  {
   "cell_type": "code",
   "execution_count": 64,
   "id": "938366e7",
   "metadata": {},
   "outputs": [
    {
     "data": {
      "text/plain": [
       "0                  date\n",
       "1               1947:Q1\n",
       "2               1947:Q2\n",
       "3               1947:Q3\n",
       "4               1947:Q4\n",
       "             ...       \n",
       "306    Full sample mean\n",
       "307        Since 1995:4\n",
       "308        Since 2001:1\n",
       "309         Past 8 qtrs\n",
       "310         Past 4 qtrs\n",
       "Name: date, Length: 311, dtype: object"
      ]
     },
     "execution_count": 64,
     "metadata": {},
     "output_type": "execute_result"
    }
   ],
   "source": [
    "df_selected['date']"
   ]
  },
  {
   "cell_type": "code",
   "execution_count": 84,
   "id": "f8e10ea7",
   "metadata": {},
   "outputs": [
    {
     "data": {
      "text/html": [
       "<div>\n",
       "<style scoped>\n",
       "    .dataframe tbody tr th:only-of-type {\n",
       "        vertical-align: middle;\n",
       "    }\n",
       "\n",
       "    .dataframe tbody tr th {\n",
       "        vertical-align: top;\n",
       "    }\n",
       "\n",
       "    .dataframe thead th {\n",
       "        text-align: right;\n",
       "    }\n",
       "</style>\n",
       "<table border=\"1\" class=\"dataframe\">\n",
       "  <thead>\n",
       "    <tr style=\"text-align: right;\">\n",
       "      <th></th>\n",
       "      <th>date</th>\n",
       "      <th>tfp</th>\n",
       "    </tr>\n",
       "  </thead>\n",
       "  <tbody>\n",
       "    <tr>\n",
       "      <th>141</th>\n",
       "      <td>1982:Q1</td>\n",
       "      <td>-4.782231</td>\n",
       "    </tr>\n",
       "    <tr>\n",
       "      <th>142</th>\n",
       "      <td>1982:Q2</td>\n",
       "      <td>-1.377697</td>\n",
       "    </tr>\n",
       "    <tr>\n",
       "      <th>143</th>\n",
       "      <td>1982:Q3</td>\n",
       "      <td>-2.636626</td>\n",
       "    </tr>\n",
       "    <tr>\n",
       "      <th>144</th>\n",
       "      <td>1982:Q4</td>\n",
       "      <td>0.109814</td>\n",
       "    </tr>\n",
       "    <tr>\n",
       "      <th>145</th>\n",
       "      <td>1983:Q1</td>\n",
       "      <td>2.199907</td>\n",
       "    </tr>\n",
       "    <tr>\n",
       "      <th>...</th>\n",
       "      <td>...</td>\n",
       "      <td>...</td>\n",
       "    </tr>\n",
       "    <tr>\n",
       "      <th>297</th>\n",
       "      <td>2021:Q1</td>\n",
       "      <td>1.367254</td>\n",
       "    </tr>\n",
       "    <tr>\n",
       "      <th>298</th>\n",
       "      <td>2021:Q2</td>\n",
       "      <td>1.193527</td>\n",
       "    </tr>\n",
       "    <tr>\n",
       "      <th>299</th>\n",
       "      <td>2021:Q3</td>\n",
       "      <td>0.641803</td>\n",
       "    </tr>\n",
       "    <tr>\n",
       "      <th>300</th>\n",
       "      <td>2021:Q4</td>\n",
       "      <td>3.511677</td>\n",
       "    </tr>\n",
       "    <tr>\n",
       "      <th>301</th>\n",
       "      <td>2022:Q1</td>\n",
       "      <td>-3.638582</td>\n",
       "    </tr>\n",
       "  </tbody>\n",
       "</table>\n",
       "<p>161 rows × 2 columns</p>\n",
       "</div>"
      ],
      "text/plain": [
       "        date       tfp\n",
       "141  1982:Q1 -4.782231\n",
       "142  1982:Q2 -1.377697\n",
       "143  1982:Q3 -2.636626\n",
       "144  1982:Q4  0.109814\n",
       "145  1983:Q1  2.199907\n",
       "..       ...       ...\n",
       "297  2021:Q1  1.367254\n",
       "298  2021:Q2  1.193527\n",
       "299  2021:Q3  0.641803\n",
       "300  2021:Q4  3.511677\n",
       "301  2022:Q1 -3.638582\n",
       "\n",
       "[161 rows x 2 columns]"
      ]
     },
     "execution_count": 84,
     "metadata": {},
     "output_type": "execute_result"
    }
   ],
   "source": [
    "selected_rows = df_selected.iloc[141:302]\n",
    "selected_rows"
   ]
  },
  {
   "cell_type": "code",
   "execution_count": 72,
   "id": "1f02f991",
   "metadata": {},
   "outputs": [
    {
     "name": "stdout",
     "output_type": "stream",
     "text": [
      "        date       tfp\n",
      "141  1982:Q1 -4.782231\n",
      "142  1982:Q2 -1.377697\n",
      "143  1982:Q3 -2.636626\n",
      "144  1982:Q4  0.109814\n",
      "145  1983:Q1  2.199907\n",
      "..       ...       ...\n",
      "298  2021:Q2  1.193527\n",
      "299  2021:Q3  0.641803\n",
      "300  2021:Q4  3.511677\n",
      "301  2022:Q1 -3.638582\n",
      "302  2022:Q2 -3.575845\n",
      "\n",
      "[162 rows x 2 columns]\n"
     ]
    }
   ],
   "source": [
    "print(selected_rows)"
   ]
  },
  {
   "cell_type": "code",
   "execution_count": 86,
   "id": "90388695",
   "metadata": {},
   "outputs": [
    {
     "data": {
      "text/html": [
       "<div>\n",
       "<style scoped>\n",
       "    .dataframe tbody tr th:only-of-type {\n",
       "        vertical-align: middle;\n",
       "    }\n",
       "\n",
       "    .dataframe tbody tr th {\n",
       "        vertical-align: top;\n",
       "    }\n",
       "\n",
       "    .dataframe thead th {\n",
       "        text-align: right;\n",
       "    }\n",
       "</style>\n",
       "<table border=\"1\" class=\"dataframe\">\n",
       "  <thead>\n",
       "    <tr style=\"text-align: right;\">\n",
       "      <th></th>\n",
       "      <th>date</th>\n",
       "      <th>tfp</th>\n",
       "    </tr>\n",
       "  </thead>\n",
       "  <tbody>\n",
       "    <tr>\n",
       "      <th>141</th>\n",
       "      <td>1982:Q1</td>\n",
       "      <td>-4.782231</td>\n",
       "    </tr>\n",
       "    <tr>\n",
       "      <th>142</th>\n",
       "      <td>1982:Q2</td>\n",
       "      <td>-1.377697</td>\n",
       "    </tr>\n",
       "    <tr>\n",
       "      <th>143</th>\n",
       "      <td>1982:Q3</td>\n",
       "      <td>-2.636626</td>\n",
       "    </tr>\n",
       "    <tr>\n",
       "      <th>144</th>\n",
       "      <td>1982:Q4</td>\n",
       "      <td>0.109814</td>\n",
       "    </tr>\n",
       "    <tr>\n",
       "      <th>145</th>\n",
       "      <td>1983:Q1</td>\n",
       "      <td>2.199907</td>\n",
       "    </tr>\n",
       "    <tr>\n",
       "      <th>...</th>\n",
       "      <td>...</td>\n",
       "      <td>...</td>\n",
       "    </tr>\n",
       "    <tr>\n",
       "      <th>297</th>\n",
       "      <td>2021:Q1</td>\n",
       "      <td>1.367254</td>\n",
       "    </tr>\n",
       "    <tr>\n",
       "      <th>298</th>\n",
       "      <td>2021:Q2</td>\n",
       "      <td>1.193527</td>\n",
       "    </tr>\n",
       "    <tr>\n",
       "      <th>299</th>\n",
       "      <td>2021:Q3</td>\n",
       "      <td>0.641803</td>\n",
       "    </tr>\n",
       "    <tr>\n",
       "      <th>300</th>\n",
       "      <td>2021:Q4</td>\n",
       "      <td>3.511677</td>\n",
       "    </tr>\n",
       "    <tr>\n",
       "      <th>301</th>\n",
       "      <td>2022:Q1</td>\n",
       "      <td>-3.638582</td>\n",
       "    </tr>\n",
       "  </tbody>\n",
       "</table>\n",
       "<p>161 rows × 2 columns</p>\n",
       "</div>"
      ],
      "text/plain": [
       "        date       tfp\n",
       "141  1982:Q1 -4.782231\n",
       "142  1982:Q2 -1.377697\n",
       "143  1982:Q3 -2.636626\n",
       "144  1982:Q4  0.109814\n",
       "145  1983:Q1  2.199907\n",
       "..       ...       ...\n",
       "297  2021:Q1  1.367254\n",
       "298  2021:Q2  1.193527\n",
       "299  2021:Q3  0.641803\n",
       "300  2021:Q4  3.511677\n",
       "301  2022:Q1 -3.638582\n",
       "\n",
       "[161 rows x 2 columns]"
      ]
     },
     "execution_count": 86,
     "metadata": {},
     "output_type": "execute_result"
    }
   ],
   "source": [
    "df_selected = selected_rows\n",
    "df_selected\n"
   ]
  },
  {
   "cell_type": "code",
   "execution_count": 75,
   "id": "39aa4462",
   "metadata": {},
   "outputs": [
    {
     "name": "stdout",
     "output_type": "stream",
     "text": [
      "        date       tfp\n",
      "141  1982:Q1 -4.782231\n",
      "142  1982:Q2 -1.377697\n",
      "143  1982:Q3 -2.636626\n",
      "144  1982:Q4  0.109814\n",
      "145  1983:Q1  2.199907\n",
      "..       ...       ...\n",
      "297  2021:Q1  1.367254\n",
      "298  2021:Q2  1.193527\n",
      "299  2021:Q3  0.641803\n",
      "300  2021:Q4  3.511677\n",
      "301  2022:Q1 -3.638582\n",
      "\n",
      "[161 rows x 2 columns]\n"
     ]
    }
   ],
   "source": [
    "print(df_selected)"
   ]
  },
  {
   "cell_type": "code",
   "execution_count": 89,
   "id": "4a2cf6b8",
   "metadata": {},
   "outputs": [
    {
     "data": {
      "text/html": [
       "<div>\n",
       "<style scoped>\n",
       "    .dataframe tbody tr th:only-of-type {\n",
       "        vertical-align: middle;\n",
       "    }\n",
       "\n",
       "    .dataframe tbody tr th {\n",
       "        vertical-align: top;\n",
       "    }\n",
       "\n",
       "    .dataframe thead th {\n",
       "        text-align: right;\n",
       "    }\n",
       "</style>\n",
       "<table border=\"1\" class=\"dataframe\">\n",
       "  <thead>\n",
       "    <tr style=\"text-align: right;\">\n",
       "      <th></th>\n",
       "      <th>tfp</th>\n",
       "    </tr>\n",
       "  </thead>\n",
       "  <tbody>\n",
       "    <tr>\n",
       "      <th>141</th>\n",
       "      <td>-4.782231</td>\n",
       "    </tr>\n",
       "    <tr>\n",
       "      <th>142</th>\n",
       "      <td>-1.377697</td>\n",
       "    </tr>\n",
       "    <tr>\n",
       "      <th>143</th>\n",
       "      <td>-2.636626</td>\n",
       "    </tr>\n",
       "    <tr>\n",
       "      <th>144</th>\n",
       "      <td>0.109814</td>\n",
       "    </tr>\n",
       "    <tr>\n",
       "      <th>145</th>\n",
       "      <td>2.199907</td>\n",
       "    </tr>\n",
       "    <tr>\n",
       "      <th>...</th>\n",
       "      <td>...</td>\n",
       "    </tr>\n",
       "    <tr>\n",
       "      <th>297</th>\n",
       "      <td>1.367254</td>\n",
       "    </tr>\n",
       "    <tr>\n",
       "      <th>298</th>\n",
       "      <td>1.193527</td>\n",
       "    </tr>\n",
       "    <tr>\n",
       "      <th>299</th>\n",
       "      <td>0.641803</td>\n",
       "    </tr>\n",
       "    <tr>\n",
       "      <th>300</th>\n",
       "      <td>3.511677</td>\n",
       "    </tr>\n",
       "    <tr>\n",
       "      <th>301</th>\n",
       "      <td>-3.638582</td>\n",
       "    </tr>\n",
       "  </tbody>\n",
       "</table>\n",
       "<p>161 rows × 1 columns</p>\n",
       "</div>"
      ],
      "text/plain": [
       "          tfp\n",
       "141 -4.782231\n",
       "142 -1.377697\n",
       "143 -2.636626\n",
       "144  0.109814\n",
       "145  2.199907\n",
       "..        ...\n",
       "297  1.367254\n",
       "298  1.193527\n",
       "299  0.641803\n",
       "300  3.511677\n",
       "301 -3.638582\n",
       "\n",
       "[161 rows x 1 columns]"
      ]
     },
     "execution_count": 89,
     "metadata": {},
     "output_type": "execute_result"
    }
   ],
   "source": [
    "tfp_column = df_selected[['tfp']]\n",
    "df_selected = tfp_column\n",
    "df_selected\n",
    "\n",
    "#just selecting the column of total factor productivity"
   ]
  },
  {
   "cell_type": "code",
   "execution_count": 77,
   "id": "05b1a4e3",
   "metadata": {},
   "outputs": [
    {
     "name": "stdout",
     "output_type": "stream",
     "text": [
      "          tfp\n",
      "141 -4.782231\n",
      "142 -1.377697\n",
      "143 -2.636626\n",
      "144  0.109814\n",
      "145  2.199907\n",
      "..        ...\n",
      "297  1.367254\n",
      "298  1.193527\n",
      "299  0.641803\n",
      "300  3.511677\n",
      "301 -3.638582\n",
      "\n",
      "[161 rows x 1 columns]\n"
     ]
    }
   ],
   "source": [
    "print(tfp_column)"
   ]
  },
  {
   "cell_type": "code",
   "execution_count": 78,
   "id": "3d4e633f",
   "metadata": {},
   "outputs": [
    {
     "name": "stdout",
     "output_type": "stream",
     "text": [
      "161\n"
     ]
    }
   ],
   "source": [
    "num_rows = tfp_column.shape[0]\n",
    "print(num_rows)"
   ]
  },
  {
   "cell_type": "code",
   "execution_count": 92,
   "id": "397796ae",
   "metadata": {},
   "outputs": [
    {
     "data": {
      "text/html": [
       "<div>\n",
       "<style scoped>\n",
       "    .dataframe tbody tr th:only-of-type {\n",
       "        vertical-align: middle;\n",
       "    }\n",
       "\n",
       "    .dataframe tbody tr th {\n",
       "        vertical-align: top;\n",
       "    }\n",
       "\n",
       "    .dataframe thead th {\n",
       "        text-align: right;\n",
       "    }\n",
       "</style>\n",
       "<table border=\"1\" class=\"dataframe\">\n",
       "  <thead>\n",
       "    <tr style=\"text-align: right;\">\n",
       "      <th></th>\n",
       "      <th>A</th>\n",
       "      <th>B</th>\n",
       "    </tr>\n",
       "  </thead>\n",
       "  <tbody>\n",
       "    <tr>\n",
       "      <th>0</th>\n",
       "      <td>1</td>\n",
       "      <td>4</td>\n",
       "    </tr>\n",
       "    <tr>\n",
       "      <th>1</th>\n",
       "      <td>2</td>\n",
       "      <td>5</td>\n",
       "    </tr>\n",
       "    <tr>\n",
       "      <th>2</th>\n",
       "      <td>3</td>\n",
       "      <td>6</td>\n",
       "    </tr>\n",
       "    <tr>\n",
       "      <th>0</th>\n",
       "      <td>7</td>\n",
       "      <td>10</td>\n",
       "    </tr>\n",
       "    <tr>\n",
       "      <th>1</th>\n",
       "      <td>8</td>\n",
       "      <td>11</td>\n",
       "    </tr>\n",
       "    <tr>\n",
       "      <th>2</th>\n",
       "      <td>9</td>\n",
       "      <td>12</td>\n",
       "    </tr>\n",
       "  </tbody>\n",
       "</table>\n",
       "</div>"
      ],
      "text/plain": [
       "   A   B\n",
       "0  1   4\n",
       "1  2   5\n",
       "2  3   6\n",
       "0  7  10\n",
       "1  8  11\n",
       "2  9  12"
      ]
     },
     "execution_count": 92,
     "metadata": {},
     "output_type": "execute_result"
    }
   ],
   "source": [
    "df1 = pd.DataFrame({'A': [1, 2, 3], 'B': [4, 5, 6]})\n",
    "df2 = pd.DataFrame({'A': [7, 8, 9], 'B': [10, 11, 12]})\n",
    "result = pd.concat([df1, df2], axis=0)\n",
    "result"
   ]
  },
  {
   "cell_type": "code",
   "execution_count": null,
   "id": "ae4328ac",
   "metadata": {},
   "outputs": [],
   "source": []
  }
 ],
 "metadata": {
  "kernelspec": {
   "display_name": "Python 3 (ipykernel)",
   "language": "python",
   "name": "python3"
  },
  "language_info": {
   "codemirror_mode": {
    "name": "ipython",
    "version": 3
   },
   "file_extension": ".py",
   "mimetype": "text/x-python",
   "name": "python",
   "nbconvert_exporter": "python",
   "pygments_lexer": "ipython3",
   "version": "3.9.12"
  }
 },
 "nbformat": 4,
 "nbformat_minor": 5
}
